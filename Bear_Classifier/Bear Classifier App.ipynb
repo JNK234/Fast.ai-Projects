{
 "cells": [
  {
   "cell_type": "code",
   "execution_count": 1,
   "id": "micro-cancer",
   "metadata": {},
   "outputs": [
    {
     "name": "stderr",
     "output_type": "stream",
     "text": [
      "/Users/narasimhajwalapuram/opt/miniconda3/lib/python3.8/site-packages/fastbook/__init__.py:18: UserWarning: Missing `graphviz` - please run `conda install fastbook`\n",
      "  except ModuleNotFoundError: warn(\"Missing `graphviz` - please run `conda install fastbook`\")\n"
     ]
    }
   ],
   "source": [
    "from fastbook import *\n",
    "from fastai.vision.widgets import *\n",
    "from fastai.vision.all import *"
   ]
  },
  {
   "cell_type": "markdown",
   "id": "ordered-ecuador",
   "metadata": {},
   "source": [
    "# Amazing Bear Classifier "
   ]
  },
  {
   "cell_type": "code",
   "execution_count": 14,
   "id": "valued-ordinance",
   "metadata": {},
   "outputs": [],
   "source": [
    "path = Path()\n",
    "learn_inf = load_learner(path/'Models/bear_classifier.pkl',cpu=True)\n",
    "btn_upload = widgets.FileUpload()\n",
    "out_pl = widgets.Output()\n",
    "lbl_pred = widgets.Label()"
   ]
  },
  {
   "cell_type": "code",
   "execution_count": 15,
   "id": "qualified-federal",
   "metadata": {},
   "outputs": [],
   "source": [
    "def on_click_classify(change):\n",
    "    img = PILImage.create(btn_upload.data[-1])\n",
    "    out_pl.clear_output()\n",
    "    with out_pl: display(img.to_thumb(512,512))\n",
    "    pred, pred_idx, probs = learn.predict(img)\n",
    "    lbl_pred.value = f'Prediction: {pred}, Probability: {probs[pred_idx]:.04f}'"
   ]
  },
  {
   "cell_type": "code",
   "execution_count": 16,
   "id": "miniature-library",
   "metadata": {},
   "outputs": [],
   "source": [
    "btn_upload.observe(on_click_classify, names=['data'])"
   ]
  },
  {
   "cell_type": "code",
   "execution_count": 17,
   "id": "judicial-terrain",
   "metadata": {},
   "outputs": [
    {
     "data": {
      "application/vnd.jupyter.widget-view+json": {
       "model_id": "2a466e37c8174a2292cf0c78a2f05658",
       "version_major": 2,
       "version_minor": 0
      },
      "text/plain": [
       "VBox(children=(Label(value='Upload your Bear :'), FileUpload(value={}, description='Upload'), Button(descripti…"
      ]
     },
     "metadata": {},
     "output_type": "display_data"
    }
   ],
   "source": [
    "display(VBox([widgets.Label('Upload your Bear :'), btn_upload, btn_run, out_pl, lbl_pred]))"
   ]
  },
  {
   "cell_type": "code",
   "execution_count": 18,
   "id": "chief-suspect",
   "metadata": {},
   "outputs": [
    {
     "name": "stdout",
     "output_type": "stream",
     "text": [
      "Requirement already satisfied: voila in /Users/narasimhajwalapuram/opt/miniconda3/lib/python3.8/site-packages (0.2.10)\n",
      "Requirement already satisfied: nbclient<0.6,>=0.4.0 in /Users/narasimhajwalapuram/opt/miniconda3/lib/python3.8/site-packages (from voila) (0.5.1)\n",
      "Requirement already satisfied: jupyter-client<7,>=6.1.3 in /Users/narasimhajwalapuram/opt/miniconda3/lib/python3.8/site-packages (from voila) (6.1.7)\n",
      "Requirement already satisfied: jupyter-server<2.0.0,>=0.3.0 in /Users/narasimhajwalapuram/opt/miniconda3/lib/python3.8/site-packages (from voila) (1.6.4)\n",
      "Requirement already satisfied: nbconvert<7,>=6.0.0 in /Users/narasimhajwalapuram/opt/miniconda3/lib/python3.8/site-packages (from voila) (6.0.7)\n",
      "Requirement already satisfied: async-generator in /Users/narasimhajwalapuram/opt/miniconda3/lib/python3.8/site-packages (from nbclient<0.6,>=0.4.0->voila) (1.10)\n",
      "Requirement already satisfied: traitlets>=4.2 in /Users/narasimhajwalapuram/opt/miniconda3/lib/python3.8/site-packages (from nbclient<0.6,>=0.4.0->voila) (5.0.5)\n",
      "Requirement already satisfied: nest-asyncio in /Users/narasimhajwalapuram/opt/miniconda3/lib/python3.8/site-packages (from nbclient<0.6,>=0.4.0->voila) (1.4.3)\n",
      "Requirement already satisfied: nbformat>=5.0 in /Users/narasimhajwalapuram/opt/miniconda3/lib/python3.8/site-packages (from nbclient<0.6,>=0.4.0->voila) (5.1.2)\n",
      "Requirement already satisfied: tornado>=4.1 in /Users/narasimhajwalapuram/opt/miniconda3/lib/python3.8/site-packages (from jupyter-client<7,>=6.1.3->voila) (6.1)\n",
      "Requirement already satisfied: pyzmq>=13 in /Users/narasimhajwalapuram/opt/miniconda3/lib/python3.8/site-packages (from jupyter-client<7,>=6.1.3->voila) (20.0.0)\n",
      "Requirement already satisfied: python-dateutil>=2.1 in /Users/narasimhajwalapuram/opt/miniconda3/lib/python3.8/site-packages (from jupyter-client<7,>=6.1.3->voila) (2.8.1)\n",
      "Requirement already satisfied: jupyter-core>=4.6.0 in /Users/narasimhajwalapuram/opt/miniconda3/lib/python3.8/site-packages (from jupyter-client<7,>=6.1.3->voila) (4.7.0)\n",
      "Requirement already satisfied: prometheus-client in /Users/narasimhajwalapuram/opt/miniconda3/lib/python3.8/site-packages (from jupyter-server<2.0.0,>=0.3.0->voila) (0.9.0)\n",
      "Requirement already satisfied: Send2Trash in /Users/narasimhajwalapuram/opt/miniconda3/lib/python3.8/site-packages (from jupyter-server<2.0.0,>=0.3.0->voila) (1.5.0)\n",
      "Requirement already satisfied: terminado>=0.8.3 in /Users/narasimhajwalapuram/opt/miniconda3/lib/python3.8/site-packages (from jupyter-server<2.0.0,>=0.3.0->voila) (0.9.2)\n",
      "Requirement already satisfied: ipython-genutils in /Users/narasimhajwalapuram/opt/miniconda3/lib/python3.8/site-packages (from jupyter-server<2.0.0,>=0.3.0->voila) (0.2.0)\n",
      "Requirement already satisfied: anyio<3,>=2.0.2 in /Users/narasimhajwalapuram/opt/miniconda3/lib/python3.8/site-packages (from jupyter-server<2.0.0,>=0.3.0->voila) (2.2.0)\n",
      "Requirement already satisfied: jinja2 in /Users/narasimhajwalapuram/opt/miniconda3/lib/python3.8/site-packages (from jupyter-server<2.0.0,>=0.3.0->voila) (2.11.2)\n",
      "Requirement already satisfied: argon2-cffi in /Users/narasimhajwalapuram/opt/miniconda3/lib/python3.8/site-packages (from jupyter-server<2.0.0,>=0.3.0->voila) (20.1.0)\n",
      "Requirement already satisfied: jupyter-packaging~=0.9 in /Users/narasimhajwalapuram/opt/miniconda3/lib/python3.8/site-packages (from jupyter-server<2.0.0,>=0.3.0->voila) (0.9.2)\n",
      "Requirement already satisfied: testpath in /Users/narasimhajwalapuram/opt/miniconda3/lib/python3.8/site-packages (from nbconvert<7,>=6.0.0->voila) (0.4.4)\n",
      "Requirement already satisfied: defusedxml in /Users/narasimhajwalapuram/opt/miniconda3/lib/python3.8/site-packages (from nbconvert<7,>=6.0.0->voila) (0.6.0)\n",
      "Requirement already satisfied: entrypoints>=0.2.2 in /Users/narasimhajwalapuram/opt/miniconda3/lib/python3.8/site-packages (from nbconvert<7,>=6.0.0->voila) (0.3)\n",
      "Requirement already satisfied: pandocfilters>=1.4.1 in /Users/narasimhajwalapuram/opt/miniconda3/lib/python3.8/site-packages (from nbconvert<7,>=6.0.0->voila) (1.4.3)\n",
      "Requirement already satisfied: jupyterlab-pygments in /Users/narasimhajwalapuram/opt/miniconda3/lib/python3.8/site-packages (from nbconvert<7,>=6.0.0->voila) (0.1.2)\n",
      "Requirement already satisfied: pygments>=2.4.1 in /Users/narasimhajwalapuram/opt/miniconda3/lib/python3.8/site-packages (from nbconvert<7,>=6.0.0->voila) (2.7.4)\n",
      "Requirement already satisfied: mistune<2,>=0.8.1 in /Users/narasimhajwalapuram/opt/miniconda3/lib/python3.8/site-packages (from nbconvert<7,>=6.0.0->voila) (0.8.4)\n",
      "Requirement already satisfied: bleach in /Users/narasimhajwalapuram/opt/miniconda3/lib/python3.8/site-packages (from nbconvert<7,>=6.0.0->voila) (3.2.3)\n",
      "Requirement already satisfied: jsonschema!=2.5.0,>=2.4 in /Users/narasimhajwalapuram/opt/miniconda3/lib/python3.8/site-packages (from nbformat>=5.0->nbclient<0.6,>=0.4.0->voila) (3.0.2)\n",
      "Requirement already satisfied: six>=1.5 in /Users/narasimhajwalapuram/opt/miniconda3/lib/python3.8/site-packages (from python-dateutil>=2.1->jupyter-client<7,>=6.1.3->voila) (1.15.0)\n",
      "Requirement already satisfied: ptyprocess in /Users/narasimhajwalapuram/opt/miniconda3/lib/python3.8/site-packages (from terminado>=0.8.3->jupyter-server<2.0.0,>=0.3.0->voila) (0.7.0)\n",
      "Requirement already satisfied: idna>=2.8 in /Users/narasimhajwalapuram/opt/miniconda3/lib/python3.8/site-packages (from anyio<3,>=2.0.2->jupyter-server<2.0.0,>=0.3.0->voila) (2.10)\n",
      "Requirement already satisfied: sniffio>=1.1 in /Users/narasimhajwalapuram/opt/miniconda3/lib/python3.8/site-packages (from anyio<3,>=2.0.2->jupyter-server<2.0.0,>=0.3.0->voila) (1.2.0)\n",
      "Requirement already satisfied: MarkupSafe>=0.23 in /Users/narasimhajwalapuram/opt/miniconda3/lib/python3.8/site-packages (from jinja2->jupyter-server<2.0.0,>=0.3.0->voila) (1.1.1)\n",
      "Requirement already satisfied: cffi>=1.0.0 in /Users/narasimhajwalapuram/opt/miniconda3/lib/python3.8/site-packages (from argon2-cffi->jupyter-server<2.0.0,>=0.3.0->voila) (1.14.3)\n",
      "Requirement already satisfied: wheel in /Users/narasimhajwalapuram/opt/miniconda3/lib/python3.8/site-packages (from jupyter-packaging~=0.9->jupyter-server<2.0.0,>=0.3.0->voila) (0.35.1)\n",
      "Requirement already satisfied: packaging in /Users/narasimhajwalapuram/opt/miniconda3/lib/python3.8/site-packages (from jupyter-packaging~=0.9->jupyter-server<2.0.0,>=0.3.0->voila) (20.9)\n",
      "Requirement already satisfied: tomlkit in /Users/narasimhajwalapuram/opt/miniconda3/lib/python3.8/site-packages (from jupyter-packaging~=0.9->jupyter-server<2.0.0,>=0.3.0->voila) (0.7.0)\n",
      "Requirement already satisfied: setuptools>=46.4.0 in /Users/narasimhajwalapuram/opt/miniconda3/lib/python3.8/site-packages (from jupyter-packaging~=0.9->jupyter-server<2.0.0,>=0.3.0->voila) (50.3.1.post20201107)\n",
      "Requirement already satisfied: deprecation in /Users/narasimhajwalapuram/opt/miniconda3/lib/python3.8/site-packages (from jupyter-packaging~=0.9->jupyter-server<2.0.0,>=0.3.0->voila) (2.1.0)\n",
      "Requirement already satisfied: webencodings in /Users/narasimhajwalapuram/opt/miniconda3/lib/python3.8/site-packages (from bleach->nbconvert<7,>=6.0.0->voila) (0.5.1)\n",
      "Requirement already satisfied: pyrsistent>=0.14.0 in /Users/narasimhajwalapuram/opt/miniconda3/lib/python3.8/site-packages (from jsonschema!=2.5.0,>=2.4->nbformat>=5.0->nbclient<0.6,>=0.4.0->voila) (0.17.3)\n",
      "Requirement already satisfied: attrs>=17.4.0 in /Users/narasimhajwalapuram/opt/miniconda3/lib/python3.8/site-packages (from jsonschema!=2.5.0,>=2.4->nbformat>=5.0->nbclient<0.6,>=0.4.0->voila) (20.3.0)\n",
      "Requirement already satisfied: pycparser in /Users/narasimhajwalapuram/opt/miniconda3/lib/python3.8/site-packages (from cffi>=1.0.0->argon2-cffi->jupyter-server<2.0.0,>=0.3.0->voila) (2.20)\n",
      "Requirement already satisfied: pyparsing>=2.0.2 in /Users/narasimhajwalapuram/opt/miniconda3/lib/python3.8/site-packages (from packaging->jupyter-packaging~=0.9->jupyter-server<2.0.0,>=0.3.0->voila) (2.4.7)\n",
      "Enabling: voila\n",
      "- Writing config: /Users/narasimhajwalapuram/opt/miniconda3/etc/jupyter\n",
      "    - Validating...\n",
      "      voila 0.2.10 \u001b[32mOK\u001b[0m\n"
     ]
    }
   ],
   "source": [
    "!pip install voila\n",
    "!jupyter serverextension enable voila --sys-prefix"
   ]
  },
  {
   "cell_type": "code",
   "execution_count": null,
   "id": "scientific-sunday",
   "metadata": {},
   "outputs": [],
   "source": []
  },
  {
   "cell_type": "code",
   "execution_count": null,
   "id": "empirical-population",
   "metadata": {},
   "outputs": [],
   "source": []
  },
  {
   "cell_type": "code",
   "execution_count": null,
   "id": "weird-wrist",
   "metadata": {},
   "outputs": [],
   "source": []
  },
  {
   "cell_type": "code",
   "execution_count": null,
   "id": "international-world",
   "metadata": {},
   "outputs": [],
   "source": []
  },
  {
   "cell_type": "code",
   "execution_count": null,
   "id": "domestic-advertiser",
   "metadata": {},
   "outputs": [],
   "source": []
  },
  {
   "cell_type": "code",
   "execution_count": null,
   "id": "adapted-class",
   "metadata": {},
   "outputs": [],
   "source": []
  },
  {
   "cell_type": "code",
   "execution_count": null,
   "id": "described-efficiency",
   "metadata": {},
   "outputs": [],
   "source": []
  },
  {
   "cell_type": "code",
   "execution_count": null,
   "id": "active-mississippi",
   "metadata": {},
   "outputs": [],
   "source": []
  },
  {
   "cell_type": "code",
   "execution_count": null,
   "id": "multiple-print",
   "metadata": {},
   "outputs": [],
   "source": []
  },
  {
   "cell_type": "code",
   "execution_count": null,
   "id": "particular-today",
   "metadata": {},
   "outputs": [],
   "source": []
  }
 ],
 "metadata": {
  "kernelspec": {
   "display_name": "Python 3",
   "language": "python",
   "name": "python3"
  },
  "language_info": {
   "codemirror_mode": {
    "name": "ipython",
    "version": 3
   },
   "file_extension": ".py",
   "mimetype": "text/x-python",
   "name": "python",
   "nbconvert_exporter": "python",
   "pygments_lexer": "ipython3",
   "version": "3.8.5"
  }
 },
 "nbformat": 4,
 "nbformat_minor": 5
}
